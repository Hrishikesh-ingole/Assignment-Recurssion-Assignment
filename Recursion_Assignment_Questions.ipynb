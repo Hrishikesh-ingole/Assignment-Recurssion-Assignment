{
 "cells": [
  {
   "cell_type": "raw",
   "id": "540cb1c5-478e-49e7-9686-6bca81278b49",
   "metadata": {},
   "source": [
    "Q.1 Can you explain the logic and working of the Tower of Hanoi algorithm by writing a python program?\n",
    "How does the recursion work, and how are the movements of disks between rods accomplished?"
   ]
  },
  {
   "cell_type": "code",
   "execution_count": 4,
   "id": "0339df43-5224-47f5-877b-2d03e761a897",
   "metadata": {},
   "outputs": [
    {
     "name": "stdout",
     "output_type": "stream",
     "text": [
      "move the disk 1 from A to C\n",
      "move the disk 2 from A to B\n",
      "move the disk 1 from C to B\n",
      "move the disk 3 from A to C\n",
      "move the disk 1 from B to A\n",
      "move the disk 2 from B to C\n",
      "move the disk 1 from A to C\n"
     ]
    }
   ],
   "source": [
    "def TOH(n, start, end, aux):\n",
    "    if n == 1:\n",
    "        print(f\"move the disk {n} from {start} to {end}\")\n",
    "        return\n",
    "    else:\n",
    "        TOH(n-1, start, aux, end)\n",
    "        print(f'move the disk {n} from {start} to {end}')\n",
    "        TOH(n-1, aux, end, start)\n",
    "\n",
    "n = 3\n",
    "TOH(n, 'A','C','B')"
   ]
  },
  {
   "cell_type": "code",
   "execution_count": null,
   "id": "0374c1d7-5eac-45dc-8a4b-045b1a9e9165",
   "metadata": {},
   "outputs": [],
   "source": []
  },
  {
   "cell_type": "markdown",
   "id": "b30884fa-35e3-4689-a2f8-b28b7b2b7953",
   "metadata": {},
   "source": [
    "Q.2 Given two strings word1 and word2, return the minimum number of operations required to convert word1\n",
    "to word2.\n",
    "Example 1:\n",
    "Input: word1 = \"horse\", word2 = \"ros\"\n",
    "Output: 3\n",
    "Explanation:\n",
    "horse -> rorse (replace 'h' with 'r')\n",
    "rorse -> rose (remove 'r')\n",
    "rose -> ros (remove 'e')\n",
    "Example 2:\n",
    "Input: word1 = \"intention\", word2 = \"execution\"\n",
    "Output: 5\n",
    "Explanation:\n",
    "intention -> inention (remove 't')\n",
    "inention -> enention (replace 'i' with 'e')\n",
    "enention -> exention (replace 'n' with 'x')\n",
    "exention -> exection (replace 'n' with 'c')\n",
    "exection -> execution (insert 'u')"
   ]
  },
  {
   "cell_type": "code",
   "execution_count": 13,
   "id": "6489da35-2d20-4006-b679-e81d8180b647",
   "metadata": {},
   "outputs": [
    {
     "name": "stdin",
     "output_type": "stream",
     "text": [
      "Enter first word :  DOG\n",
      "Enter second word :  DIG\n"
     ]
    },
    {
     "name": "stdout",
     "output_type": "stream",
     "text": [
      "Minimum number of modifications required =  1\n"
     ]
    }
   ],
   "source": [
    "def find_min_ops(str_1, str_2):\n",
    "    m = len(str_1)\n",
    "    n = len(str_2)\n",
    "    matrix = []\n",
    "\n",
    "    # new matrix creation\n",
    "    for i in range(m+1):\n",
    "        row = []\n",
    "        for j in range(n+1):\n",
    "            row.append(0)\n",
    "        matrix.append(row)\n",
    "\n",
    "    # now assigning value according to alphabets\n",
    "\n",
    "    for i in range(m+1):\n",
    "        for j in range(n+1):\n",
    "            if i == 0:\n",
    "                matrix[i][j] = j \n",
    "            elif j == 0:\n",
    "                matrix[i][j] = i\n",
    "            elif str_1[i-1] == str_2[j-1]:\n",
    "                matrix[i][j] = matrix[i-1][j-1]\n",
    "            else:\n",
    "                matrix[i][j] = 1+ min(matrix[i-1][j-1],matrix[i][j-1], matrix[i-1][j])\n",
    "\n",
    "    #for x in matrix:\n",
    "        #print(x)\n",
    "\n",
    "    print(\"Minimum number of modifications required = \", matrix[m][n])\n",
    "\n",
    "#driver code\n",
    "str_1 = input('Enter first word : ')\n",
    "str_2 = input('Enter second word : ')\n",
    "find_min_ops(str_1,str_2)"
   ]
  },
  {
   "cell_type": "code",
   "execution_count": 19,
   "id": "b895490f-97b1-4dc9-bebb-4f2076ae92b3",
   "metadata": {},
   "outputs": [
    {
     "data": {
      "text/plain": [
       "22"
      ]
     },
     "execution_count": 19,
     "metadata": {},
     "output_type": "execute_result"
    }
   ],
   "source": [
    "#Q. 3 Print the max value of the array [ 13, 1, -3, 22, 5].\n",
    "\n",
    "def find_max(array):\n",
    "    num = 0\n",
    "    for i in array:\n",
    "        if num <= i:\n",
    "            num = i\n",
    "    return num\n",
    "\n",
    "#driver code\n",
    "array = [ 13, 1, -3, 22, 5]\n",
    "find_max(array)"
   ]
  },
  {
   "cell_type": "code",
   "execution_count": 49,
   "id": "4824790a-79ae-4e44-a9c4-de3d86299750",
   "metadata": {},
   "outputs": [
    {
     "data": {
      "text/plain": [
       "120"
      ]
     },
     "execution_count": 49,
     "metadata": {},
     "output_type": "execute_result"
    }
   ],
   "source": [
    "#Q.4 Find the sum of the values of the array [92, 23, 15, -20, 10].\n",
    "\n",
    "def find_sum(arr,n):\n",
    "    if n == 1:\n",
    "        return arr[n-1]\n",
    "    \n",
    "    else:\n",
    "        return arr[n-1]+ find_sum(arr, n-1)        \n",
    "\n",
    "#driver code\n",
    "arr =[92, 23, 15, -20, 10]\n",
    "n = len(arr)\n",
    "find_sum(arr,n)"
   ]
  },
  {
   "cell_type": "raw",
   "id": "ec9f94b2-0d44-48d5-83a1-6cd8da575868",
   "metadata": {},
   "source": [
    "Q.5 Given a number n. Print if it is an armstrong number or not.An armstrong number is a number if the sum\n",
    "of every digit in that number raised to the power of total digits in that number is equal to the number.\n",
    "Example : 153 = 1^3 + 5^3 + 3^3 = 1 + 125 + 27 = 153 hence 153 is an armstrong number. (Easy)\n",
    "Input1 : 153\n",
    "Output1 : Yes\n",
    "Input 2 : 134\n",
    "Output2 : No"
   ]
  },
  {
   "cell_type": "code",
   "execution_count": 83,
   "id": "cc921352-8be3-479d-a3ee-9cd88ce9f799",
   "metadata": {},
   "outputs": [
    {
     "name": "stdin",
     "output_type": "stream",
     "text": [
      "Enter the number 153\n"
     ]
    },
    {
     "name": "stdout",
     "output_type": "stream",
     "text": [
      "True\n"
     ]
    }
   ],
   "source": [
    "def find_sum(num, n, power):\n",
    "    if n == 1:\n",
    "        return (int(num[n-1]) ** power)\n",
    "    \n",
    "    else:\n",
    "        return (int(num[n-1]) ** power)+ find_sum(num, n-1, power) \n",
    "    \n",
    "#driver code\n",
    "num = str(input('Enter the number'))\n",
    "n = len(num)\n",
    "power = n\n",
    "if int(num) == find_sum(num, n, power):\n",
    "    print('True')\n",
    "else:\n",
    "    print('False')\n"
   ]
  }
 ],
 "metadata": {
  "kernelspec": {
   "display_name": "Python 3 (ipykernel)",
   "language": "python",
   "name": "python3"
  },
  "language_info": {
   "codemirror_mode": {
    "name": "ipython",
    "version": 3
   },
   "file_extension": ".py",
   "mimetype": "text/x-python",
   "name": "python",
   "nbconvert_exporter": "python",
   "pygments_lexer": "ipython3",
   "version": "3.10.8"
  }
 },
 "nbformat": 4,
 "nbformat_minor": 5
}
